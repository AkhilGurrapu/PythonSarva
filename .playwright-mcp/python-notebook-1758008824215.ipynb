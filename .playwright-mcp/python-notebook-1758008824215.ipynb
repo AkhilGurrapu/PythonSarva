{
  "nbformat": 4,
  "nbformat_minor": 0,
  "metadata": {
    "colab": {
      "provenance": []
    },
    "kernelspec": {
      "name": "python3",
      "display_name": "Python 3"
    },
    "language_info": {
      "name": "python"
    }
  },
  "cells": [
    {
      "cell_type": "code",
      "source": [
        "# Welcome to Python Learner!\n# This is an interactive Python notebook running in your browser\n# Try running this cell or write your own Python code\n\nprint(\"Hello, Python World!\")\nprint(\"Python version:\", __import__('sys').version)\n\n# Let's do some basic math\nresult = 2 + 2\nprint(f\"2 + 2 = {result}\")\n\n# Create a simple list and iterate\nfruits = ['apple', 'banana', 'orange']\nfor fruit in fruits:\n    print(f\"I like {fruit}s\")"
      ],
      "metadata": {},
      "execution_count": null,
      "outputs": []
    },
    {
      "cell_type": "code",
      "source": [
        "print('hello world')"
      ],
      "metadata": {},
      "execution_count": null,
      "outputs": []
    }
  ]
}